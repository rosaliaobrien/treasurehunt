{
 "cells": [
  {
   "cell_type": "markdown",
   "id": "e6fd90c5",
   "metadata": {},
   "source": [
    "# Introduction"
   ]
  },
  {
   "cell_type": "markdown",
   "id": "35dfcc63",
   "metadata": {},
   "source": [
    "This notebook aligns individual exposures to Gaia, then drizzles them together. It follows from the notebook titled *1) Drizzle Images*, which creates a drizzled image that is not aligned to Gaia, but is used to determine offsets from Gaia.\n",
    "\n",
    "AstroDrizzle performs distortion corrections. Therefore, the individual flat-fielded exposures (FLC files) must be aligned to Gaia before drizzling. This notebook is organized as follows:\n",
    "<ol>\n",
    "  <li>Import Packages</li>\n",
    "  <li>Copy individual exposures to working directory</li>\n",
    "  <li>Run SEP (SourceExtractor for Python) on drizzled image</li>\n",
    "  <li>Query Gaia sources close to field of view</li>\n",
    "  <li>Calculate offsets between positions of stars in drizzled image to Gaia positions</li>\n",
    "  <li>Update the world coordinate system information in the headers of the FLC files</li>\n",
    "  <li>Drizzle aligned-FLC files to attain final aligned image</li>\n",
    "</ol>"
   ]
  },
  {
   "cell_type": "markdown",
   "id": "3a9349bc",
   "metadata": {},
   "source": [
    "# Import Packages"
   ]
  },
  {
   "cell_type": "code",
   "execution_count": null,
   "id": "b6f693aa",
   "metadata": {},
   "outputs": [],
   "source": [
    "import pandas as pd\n",
    "import os\n",
    "from shutil import copyfile\n",
    "from glob import glob\n",
    "from astropy.io import fits\n",
    "import astropy.units as u\n",
    "from astropy.time import Time\n",
    "from drizzlepac import astrodrizzle\n",
    "\n",
    "# Import Gaia-alignment pipeline packages\n",
    "from get_gaia_and_sep_sources import get_sources # Create source catalog (using SEP) and Gaia catalog from input image\n",
    "from get_offsets import get_offsets # Calculate offset between source catalog and reference (i.e., Gaia) catalog\n",
    "from update_wcs_flc import calc_new_wcs, update_wcs # Update the WCS information in the individual exposures\n",
    "\n",
    "# Define parent directory\n",
    "# The working directory is changed later in the Notebook\n",
    "parent = os.getcwd()"
   ]
  },
  {
   "cell_type": "markdown",
   "id": "4aa155a3",
   "metadata": {},
   "source": [
    "# Copy individual exposures to working directory"
   ]
  },
  {
   "cell_type": "markdown",
   "id": "a254a251",
   "metadata": {},
   "source": [
    "First copy all individual exposures that need to be aligned into a new working directory. This ensures that we can modify them as needed without affecting the original versions."
   ]
  },
  {
   "cell_type": "code",
   "execution_count": null,
   "id": "9d8dea52",
   "metadata": {},
   "outputs": [],
   "source": [
    "# Define the list of files that were previously aligbed to one another, but not aligned to Gaia\n",
    "# These are created in the notebook titled 1) Drizzle Images\n",
    "file_list = glob('drizzled_products_unaligned/*_flc.fits')\n",
    "file_list"
   ]
  },
  {
   "cell_type": "code",
   "execution_count": null,
   "id": "94bc228b",
   "metadata": {
    "scrolled": true
   },
   "outputs": [],
   "source": [
    "# Ensure you are in parent directory\n",
    "os.chdir(parent)\n",
    "\n",
    "# Define a directory where the aligment to Gaia will take place\n",
    "alinging_wdir = 'aligned_flcs/'\n",
    "\n",
    "# Create the directory if it doesn't already exist\n",
    "if os.path.exists(alinging_wdir) == False:\n",
    "    os.mkdir(alinging_wdir)\n",
    "\n",
    "# Copy files to this directory\n",
    "for og_file in file_list:\n",
    "    \n",
    "    new_path = os.path.join(alinging_wdir, os.path.basename(og_file).replace('_flc', '_flc_aligned'))\n",
    "    \n",
    "    print('\\n')\n",
    "    print('Original File:', og_file)\n",
    "    print('New Path:', new_path)\n",
    "    \n",
    "    copyfile(og_file, new_path)"
   ]
  },
  {
   "cell_type": "code",
   "execution_count": null,
   "id": "a24d1be3",
   "metadata": {},
   "outputs": [],
   "source": [
    "# Define list of files that will be aligned\n",
    "to_align_files = glob('aligned_flcs/*_flc_aligned*')\n",
    "to_align_files"
   ]
  },
  {
   "cell_type": "markdown",
   "id": "33aa4f57",
   "metadata": {},
   "source": [
    "# Run SEP (SourceExtractor for Python) on drizzled image"
   ]
  },
  {
   "cell_type": "markdown",
   "id": "e8130720",
   "metadata": {},
   "source": [
    "Detect sources using [SourceExtractor for Python (SEP)](https://sep.readthedocs.io/en/stable/) to detect sources in the unaligned drizzled image. This image was created in the notebook titled $\\textit{1) Drizzle Images}$.\n",
    "\n",
    "This is done using a class named \"get_sources\" that was created for this pipeline. This Python class takes the file name of the drizzled image as input, then runs SEP using the \"run_sep\" function. Please refer to the source code for a full description of available parameters."
   ]
  },
  {
   "cell_type": "code",
   "execution_count": null,
   "id": "91d9ade2",
   "metadata": {},
   "outputs": [],
   "source": [
    "# Define name of unaligned drizzled image\n",
    "drc_file = 'drizzled_products_unaligned/jdkq01_drc_sci.fits'\n",
    "\n",
    "# Get sources\n",
    "source_class = get_sources(drc_file)\n",
    "object_df = source_class.run_sep(save_sep = 'sep_sources_unaligned.csv', \n",
    "                                 thresh = 5, deblend_cont = 0.06, \n",
    "                                 flux_limits = [0, 10000])"
   ]
  },
  {
   "cell_type": "markdown",
   "id": "a47db127",
   "metadata": {},
   "source": [
    "# Query Gaia sources"
   ]
  },
  {
   "cell_type": "markdown",
   "id": "c5edc3d8",
   "metadata": {},
   "source": [
    "Query Gaia sources using the same \"get_sources\" class mentioned above."
   ]
  },
  {
   "cell_type": "code",
   "execution_count": null,
   "id": "9cb7a7ba",
   "metadata": {},
   "outputs": [],
   "source": [
    "# Get time of observation (to account for proper motion of Gaia sources)\n",
    "expstart = fits.open(drc_file)[0].header['EXPSTART']\n",
    "drc_time = Time(expstart, format = 'mjd').to_value('jyear')\n",
    "\n",
    "# Query sources\n",
    "gaia_query = source_class.run_gaia_query(drc_time = drc_time, save_gaia = 'gaia_sources.csv', \n",
    "                    gaia_flux_limits = [0,5000], match_drc = True, \n",
    "                    object_df = object_df,\n",
    "                    new_ra_col = 'ra', new_dec_col = 'dec')"
   ]
  },
  {
   "cell_type": "markdown",
   "id": "ce033eee",
   "metadata": {},
   "source": [
    "# Align images"
   ]
  },
  {
   "cell_type": "code",
   "execution_count": null,
   "id": "21d37e82",
   "metadata": {},
   "outputs": [],
   "source": [
    "# Read in Gaia dataframe\n",
    "gaia_df = pd.read_csv('gaia_sources.csv')"
   ]
  },
  {
   "cell_type": "markdown",
   "id": "67e73f67",
   "metadata": {},
   "source": [
    "Calculate the x, y, and theta offsets between the true Gaia positions and the unaligned positions in the drizzled image. Then, update the world coordinate system information in the header of each exposure to align them to Gaia.\n",
    "\n",
    "This is performed using the \"get_offsets\", \"calc_new_wcs\", and \"update_wcs\" functions that were created for this pipeline. They produce plots that show the uncorrected and corrected positions of Gaia sources in the image."
   ]
  },
  {
   "cell_type": "code",
   "execution_count": null,
   "id": "e3e34ee9",
   "metadata": {},
   "outputs": [],
   "source": [
    "# Loop through every exposure\n",
    "for unaligned_file in to_align_files:\n",
    "\n",
    "    # Loop through both science extensions (located at the first and fourth image extensions)\n",
    "    for ext in [1,4]:\n",
    "        \n",
    "        print('-----------------------------------------------------------------')\n",
    "        print(unaligned_file, ext)\n",
    "        print('-----------------------------------------------------------------')\n",
    "\n",
    "        # Calculate the x, y and theta offsets\n",
    "        outputs, drc_matches, gaia_matches = get_offsets(file = unaligned_file, \n",
    "                                                         sciext = ext, \n",
    "                                                         refcat_df = gaia_df, \n",
    "                                                         image_src_df = object_df, \n",
    "                                                         pixel_scale = 0.05, \n",
    "                                                         num_it = 3, \n",
    "                                                         origin = 0).main()\n",
    "        \n",
    "        # Calculate the new central pixel RA, Dec, position angle, and CD matrix based on\n",
    "        # the x, y and theta offsets above\n",
    "        new_refra, new_refdec, new_pa_deg, new_cd1_1, new_cd1_2, new_cd2_1, new_cd2_2 = calc_new_wcs(unaligned_file, sciext = ext, \n",
    "                                                                                                     dx = outputs['dx'], dy = outputs['dy'], \n",
    "                                                                                                     theta = outputs['theta'])\n",
    "        \n",
    "        # Apply transformations to science ext, DQ ext, and ERR ext\n",
    "        for ext_i in [ext, ext+1, ext+2]:\n",
    "            print(ext_i)\n",
    "            update_wcs(unaligned_file, ext_i, \n",
    "                       new_refra, new_refdec, new_pa_deg.value, \n",
    "                       new_cd1_1, new_cd1_2, new_cd2_1, new_cd2_2)"
   ]
  },
  {
   "cell_type": "markdown",
   "id": "c9e40def",
   "metadata": {},
   "source": [
    "# Drizzle"
   ]
  },
  {
   "cell_type": "markdown",
   "id": "dab5348d",
   "metadata": {},
   "source": [
    "Create a new drizzled image using the aligned exposures."
   ]
  },
  {
   "cell_type": "code",
   "execution_count": null,
   "id": "6f5e27e0",
   "metadata": {},
   "outputs": [],
   "source": [
    "os.chdir(parent)\n",
    "\n",
    "# Create a new directory\n",
    "driz_dir = 'drizzled_products_aligned'\n",
    "\n",
    "if os.path.exists(driz_dir) == False:\n",
    "    os.mkdir(driz_dir)\n",
    "    \n",
    "print('!!! Changing directory to {}'.format(driz_dir))\n",
    "os.chdir(driz_dir)"
   ]
  },
  {
   "cell_type": "code",
   "execution_count": null,
   "id": "24423e2a",
   "metadata": {},
   "outputs": [],
   "source": [
    "# Make list of aligned exposures\n",
    "corrected_flcs = glob('../aligned_flcs/*_flc_aligned.fits')\n",
    "corrected_flcs"
   ]
  },
  {
   "cell_type": "code",
   "execution_count": null,
   "id": "b9e13a37",
   "metadata": {},
   "outputs": [],
   "source": [
    "# Copy all aligned exposures to working directory\n",
    "for file in corrected_flcs:\n",
    "    \n",
    "    print(file, os.path.basename(file))\n",
    "    \n",
    "    copyfile(file, os.path.basename(file))"
   ]
  },
  {
   "cell_type": "code",
   "execution_count": null,
   "id": "fcecb54a",
   "metadata": {},
   "outputs": [],
   "source": [
    "# Drizzle\n",
    "\n",
    "input_flcs = glob('*_aligned.fits')\n",
    "input_flcs.sort()\n",
    "\n",
    "astrodrizzle.AstroDrizzle(input_flcs,\n",
    "                          output='jdkq01',\n",
    "                          final_bits = [1,2,32,64],\n",
    "                          final_kernel = 'square',\n",
    "                          final_scale = 0.06,\n",
    "                          build = False, \n",
    "                          combine_type = 'median', \n",
    "                          preserve = False,\n",
    "                          combine_nhigh = 1, \n",
    "                          clean = True, \n",
    "                          driz_cr_corr = True, \n",
    "                          driz_cr_snr = '3.5 3.0',\n",
    "                          final_wht_type = 'WHT', \n",
    "                          runfile='driz_log.txt')"
   ]
  },
  {
   "cell_type": "markdown",
   "id": "06917494",
   "metadata": {},
   "source": [
    "# Refind sources"
   ]
  },
  {
   "cell_type": "markdown",
   "id": "7e260c9f",
   "metadata": {},
   "source": [
    "Calculate the offsets one last time to ensure alignment was performed properly."
   ]
  },
  {
   "cell_type": "code",
   "execution_count": null,
   "id": "f3d9918b",
   "metadata": {},
   "outputs": [],
   "source": [
    "os.chdir(parent)"
   ]
  },
  {
   "cell_type": "code",
   "execution_count": null,
   "id": "054aacdf",
   "metadata": {
    "scrolled": true
   },
   "outputs": [],
   "source": [
    "# Detect sources using SEP\n",
    "aligned_drc_file = 'drizzled_products_aligned/jdkq01_drz_sci.fits'\n",
    "aligned_source_class = get_sources(aligned_drc_file)\n",
    "aligned_object_df = aligned_source_class.run_sep(save_sep = 'sep_sources_aligned.csv', \n",
    "                                 thresh = 5, deblend_cont = 0.06, \n",
    "                                 flux_limits = [0, 10000])"
   ]
  },
  {
   "cell_type": "code",
   "execution_count": null,
   "id": "7d3eaada",
   "metadata": {
    "scrolled": true
   },
   "outputs": [],
   "source": [
    "# Calculate offsets\n",
    "outputs, drc_matches, gaia_matches = get_offsets(file = aligned_drc_file, \n",
    "                                                 sciext = 0, \n",
    "                                                 refcat_df = gaia_df, \n",
    "                                                 image_src_df = aligned_object_df, \n",
    "                                                 pixel_scale = 0.06, num_it = 3, \n",
    "                                                 distort_corr = True, \n",
    "                                                 origin = 0).main()"
   ]
  },
  {
   "cell_type": "code",
   "execution_count": null,
   "id": "41a272c4",
   "metadata": {
    "scrolled": false
   },
   "outputs": [],
   "source": [
    "# Plot sources used for alignment\n",
    "source_class = get_sources(aligned_drc_file)\n",
    "source_class.plot_sources(drc_matches[0], drc_matches[1], \n",
    "                          gaia_matches['x'], gaia_matches['y'], show_gaia = True)"
   ]
  },
  {
   "cell_type": "code",
   "execution_count": null,
   "id": "9bd71ea0",
   "metadata": {},
   "outputs": [],
   "source": []
  }
 ],
 "metadata": {
  "kernelspec": {
   "display_name": "Python 3",
   "language": "python",
   "name": "python3"
  },
  "language_info": {
   "codemirror_mode": {
    "name": "ipython",
    "version": 3
   },
   "file_extension": ".py",
   "mimetype": "text/x-python",
   "name": "python",
   "nbconvert_exporter": "python",
   "pygments_lexer": "ipython3",
   "version": "3.6.13"
  }
 },
 "nbformat": 4,
 "nbformat_minor": 5
}
