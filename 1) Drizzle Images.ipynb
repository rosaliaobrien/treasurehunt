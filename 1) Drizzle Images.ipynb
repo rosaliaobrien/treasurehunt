{
 "cells": [
  {
   "cell_type": "markdown",
   "id": "ad93cced",
   "metadata": {},
   "source": [
    "# Introduction"
   ]
  },
  {
   "cell_type": "markdown",
   "id": "c03c145f",
   "metadata": {},
   "source": [
    "This Gaia-alignment pipeline uses the high signal-to-noise drizzled images to calculate offsets to the Gaia reference frame. Therefore, it is necessary to drizzle the individual exposures together before calculating offsets to Gaia. This notebook drizzles HST images, but does not align them to Gaia. The alignment to Gaia is performed within the notebook titled *2) Align Drizzled Images to Gaia*.\n",
    "\n",
    "This notebook utilizes [TweakReg](https://drizzlepac.readthedocs.io/en/deployment/tweakreg.html) and [AstroDrizzle](https://drizzlepac.readthedocs.io/en/deployment/astrodrizzle.html) to perform an initial alignment the stacking of individual exposures. TweakReg has options to align to an externel reference frame (e.g., Gaia; please see Notebook tutorial [here](https://github.com/spacetelescope/notebooks/blob/master/notebooks/DrizzlePac/align_to_catalogs/align_to_catalogs.ipynb)). However, TweakReg can struggle when there are many cosmic rays and few stars in the FOV. This pipeline was created to assist with aligning to an external reference frame when TweakReg fails."
   ]
  },
  {
   "cell_type": "markdown",
   "id": "8b790c13",
   "metadata": {},
   "source": [
    "# Imports"
   ]
  },
  {
   "cell_type": "code",
   "execution_count": null,
   "id": "5d8a8257",
   "metadata": {},
   "outputs": [],
   "source": [
    "from glob import glob\n",
    "import os\n",
    "import shutil\n",
    "from astroquery.mast import Observations\n",
    "from drizzlepac import tweakreg, astrodrizzle\n",
    "from astropy.table import Table\n",
    "\n",
    "# Define parent directory\n",
    "# The working directory is changed later in the Notebook\n",
    "parent = os.getcwd()"
   ]
  },
  {
   "cell_type": "markdown",
   "id": "4192832f",
   "metadata": {},
   "source": [
    "# Download Data"
   ]
  },
  {
   "cell_type": "markdown",
   "id": "e129939e",
   "metadata": {},
   "source": [
    "Test HST data is downloaded below. It includes ACS/WFC F606W imaging of the JWST North Ecliptic Pole Time Domain Field. Please see [O'Brien+2024](https://ui.adsabs.harvard.edu/abs/2024arXiv240104944O/abstract) for example use of this data."
   ]
  },
  {
   "cell_type": "code",
   "execution_count": null,
   "id": "3d65f52c",
   "metadata": {},
   "outputs": [],
   "source": [
    "# ### Query observations ###\n",
    "obs_table = Observations.query_criteria(proposal_pi=\"Jansen*\", proposal_id = 15278, filters = 'F606W')\n",
    "data_products = Observations.get_product_list(obs_table)\n",
    "\n",
    "### Download FLC files ###\n",
    "data_flc = data_products[(data_products['productSubGroupDescription'] == 'FLC') & (data_products['type'] == 'S')]\n",
    "Observations.download_products(data_flc[:10]) # Only download the first few images"
   ]
  },
  {
   "cell_type": "markdown",
   "id": "2976f32a",
   "metadata": {},
   "source": [
    "Downloaded files are moved to a directory where the drizzling will take place, so the original files are preserved:"
   ]
  },
  {
   "cell_type": "code",
   "execution_count": null,
   "id": "39ab5cef",
   "metadata": {
    "scrolled": true
   },
   "outputs": [],
   "source": [
    "# Ensure you are in parent directory\n",
    "os.chdir(parent)\n",
    "\n",
    "# Specify name of drizzling working directory\n",
    "wdir = 'drizzled_products_unaligned/'\n",
    "\n",
    "# Create directory if it does not already exist\n",
    "if os.path.exists(wdir) == False:\n",
    "    os.mkdir(wdir)\n",
    "    \n",
    "# Copy files to working directory\n",
    "for og_file in glob('mastDownload/HST/*/*_flc.fits'):\n",
    "    \n",
    "    new_path = os.path.join(wdir, os.path.basename(og_file))\n",
    "    \n",
    "    print('Moving', og_file, 'to', new_path, '.')\n",
    "    \n",
    "    shutil.copyfile(og_file, new_path)\n",
    "    \n",
    "# Change location to the drizzling working directory\n",
    "os.chdir(wdir)\n",
    "print('\\n!! NEW WORKING DIRECTORY:', wdir)"
   ]
  },
  {
   "cell_type": "markdown",
   "id": "dd41fae4",
   "metadata": {},
   "source": [
    "# Drizzle"
   ]
  },
  {
   "cell_type": "code",
   "execution_count": null,
   "id": "35ab0268",
   "metadata": {},
   "outputs": [],
   "source": [
    "# Define individual exposures to drizzle\n",
    "input_flcs = glob('*_flc.fits')\n",
    "input_flcs"
   ]
  },
  {
   "cell_type": "markdown",
   "id": "698b3229",
   "metadata": {},
   "source": [
    "Align images to each other using TweakReg. For specifics on how to properly run TweakReg, please refer to official TweakReg documentation and tutorials. There will still be an offset with respect to Gaia."
   ]
  },
  {
   "cell_type": "code",
   "execution_count": null,
   "id": "88269935",
   "metadata": {
    "scrolled": true
   },
   "outputs": [],
   "source": [
    "# Align the images using tweakreg.\n",
    "tweakreg.TweakReg(input_flcs,\n",
    "                  searchunits = 'arcseconds',\n",
    "                  searchrad = 0.1,\n",
    "                  interactive = False, \n",
    "                  shiftfile = True,\n",
    "                  outshifts = 'shifts.txt',\n",
    "                  imagefindcfg={'threshold': 300, 'conv_width': 6.0, 'dqbits': 0},\n",
    "                  sigma = 3.0,\n",
    "                  nclip = 3,\n",
    "                  minobj = 10,\n",
    "                  updatehdr = True, \n",
    "                  expand_refcat = True,\n",
    "                  clean = False)\n",
    "\n",
    "# Read the final shifts file to ensure the rms offsets are reasonable (typically less than 10 mas)\n",
    "shift_tab = Table.read('shifts.txt',\n",
    "                   format='ascii.no_header',\n",
    "                   names=['file','dx','dy','rot','scale','xrms','yrms'])\n",
    "formats = ['.2f', '.2f', '.3f', '.5f', '.2f', '.2f']\n",
    "for i, col in enumerate(shift_tab.colnames[1:]):\n",
    "    shift_tab[col].format = formats[i]\n",
    "print(shift_tab)"
   ]
  },
  {
   "cell_type": "markdown",
   "id": "bc40ee75",
   "metadata": {},
   "source": [
    "Drizzle aligned images."
   ]
  },
  {
   "cell_type": "code",
   "execution_count": null,
   "id": "d404dbfe",
   "metadata": {},
   "outputs": [],
   "source": [
    "astrodrizzle.AstroDrizzle(input_flcs,\n",
    "                          output='jdkq01',\n",
    "                          final_bits = [1,2,32,64],\n",
    "                          final_kernel = 'square',\n",
    "                          final_scale = 0.06,\n",
    "                          build = False, \n",
    "                          combine_type = 'median', \n",
    "                          preserve = False,\n",
    "                          combine_nhigh = 1, \n",
    "                          clean = True, \n",
    "                          driz_cr_corr = True, \n",
    "                          driz_cr_snr = '3.5 3.0',\n",
    "                          final_wht_type = 'WHT', \n",
    "                          runfile='driz_log.txt')"
   ]
  }
 ],
 "metadata": {
  "kernelspec": {
   "display_name": "Python 3",
   "language": "python",
   "name": "python3"
  },
  "language_info": {
   "codemirror_mode": {
    "name": "ipython",
    "version": 3
   },
   "file_extension": ".py",
   "mimetype": "text/x-python",
   "name": "python",
   "nbconvert_exporter": "python",
   "pygments_lexer": "ipython3",
   "version": "3.6.13"
  }
 },
 "nbformat": 4,
 "nbformat_minor": 5
}
